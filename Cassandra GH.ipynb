{
 "cells": [
  {
   "cell_type": "raw",
   "id": "bd5f65ba",
   "metadata": {},
   "source": [
    "# Open this link for DataStax Cassandra\n",
    "http://surl.li/bwzmt "
   ]
  },
  {
   "cell_type": "raw",
   "id": "5acb9ad2",
   "metadata": {},
   "source": [
    "After we have setup a cassandra cluster on the site of the astra db.\n",
    "now, just download the Secure Connect Bundle\n",
    "after that put the downloaded zip folder in the same file where our jupyternotebook file is there. "
   ]
  },
  {
   "cell_type": "code",
   "execution_count": 1,
   "id": "7613af63",
   "metadata": {},
   "outputs": [
    {
     "name": "stdout",
     "output_type": "stream",
     "text": [
      "Requirement already satisfied: cassandra-driver in c:\\users\\er. aadil ji\\appdata\\local\\programs\\python\\python39\\lib\\site-packages (3.25.0)\n",
      "Requirement already satisfied: six>=1.9 in c:\\users\\er. aadil ji\\appdata\\local\\programs\\python\\python39\\lib\\site-packages (from cassandra-driver) (1.16.0)\n",
      "Requirement already satisfied: geomet<0.3,>=0.1 in c:\\users\\er. aadil ji\\appdata\\local\\programs\\python\\python39\\lib\\site-packages (from cassandra-driver) (0.2.1.post1)\n",
      "Requirement already satisfied: click in c:\\users\\er. aadil ji\\appdata\\local\\programs\\python\\python39\\lib\\site-packages (from geomet<0.3,>=0.1->cassandra-driver) (8.0.3)\n",
      "Requirement already satisfied: colorama in c:\\users\\er. aadil ji\\appdata\\local\\programs\\python\\python39\\lib\\site-packages (from click->geomet<0.3,>=0.1->cassandra-driver) (0.4.6)\n"
     ]
    },
    {
     "name": "stderr",
     "output_type": "stream",
     "text": [
      "\n",
      "[notice] A new release of pip available: 22.2.2 -> 22.3.1\n",
      "[notice] To update, run: python.exe -m pip install --upgrade pip\n"
     ]
    }
   ],
   "source": [
    "!pip install cassandra-driver "
   ]
  },
  {
   "cell_type": "code",
   "execution_count": 2,
   "id": "cf9636fc",
   "metadata": {},
   "outputs": [
    {
     "name": "stdout",
     "output_type": "stream",
     "text": [
      "3.25.0\n"
     ]
    }
   ],
   "source": [
    "import cassandra\n",
    "print(cassandra.__version__) "
   ]
  },
  {
   "cell_type": "raw",
   "id": "6b3db093",
   "metadata": {},
   "source": [
    "# connection code snippet:-\n",
    "\n",
    "from cassandra.cluster import Cluster\n",
    "from cassandra.auth import PlainTextAuthProvider\n",
    "\n",
    "cloud_config= {\n",
    "         'secure_connect_bundle': '<</PATH/TO/>>secure-connect-test-db-env.zip'\n",
    "}\n",
    "auth_provider = PlainTextAuthProvider('<<CLIENT ID>>', '<<CLIENT SECRET>>')\n",
    "cluster = Cluster(cloud=cloud_config, auth_provider=auth_provider)\n",
    "session = cluster.connect()\n",
    "\n",
    "row = session.execute(\"select release_version from system.local\").one()\n",
    "if row:\n",
    "      print(row[0])\n",
    "else:\n",
    "      print(\"An error occurred.\")"
   ]
  },
  {
   "cell_type": "code",
   "execution_count": 3,
   "id": "a4bb4999",
   "metadata": {},
   "outputs": [],
   "source": [
    "# we are importing cluseter from the cassandra.cluster class\n",
    "# it will give the required functions and attribute so that we can make a connection to the cassandra cluster\n",
    "# and from the cassandra.auth class we are importing the plaintextAuthProvider, to create a safe connection to our cluseter\n",
    "\n",
    "from cassandra.cluster import Cluster\n",
    "from cassandra.auth import PlainTextAuthProvider\n",
    "\n",
    "cloud_config= {\n",
    "         'secure_connect_bundle': 'secure-connect-test-db-env.zip'\n",
    "}\n",
    "auth_provider = PlainTextAuthProvider('dbdveSwPtNYOOdOiFDWHUhMM', 'C,jqDYDvbOpGrahK-L3TiX55xK.hgPL+ROHQHgx.ZF1ftHDwE5BtbbyzH-ZeoK6xUkZACxSLap7BaHWdvzEeWJhKz4obb,Hu3ETfLwwdJTZxTbRKC86BoR,5ETb3cxSh')\n",
    "\n"
   ]
  },
  {
   "cell_type": "code",
   "execution_count": 4,
   "id": "b3054e54",
   "metadata": {},
   "outputs": [],
   "source": [
    "# connecting to the cluster \n",
    "\n",
    "cluster = Cluster(cloud=cloud_config, auth_provider=auth_provider)\n",
    "session = cluster.connect() "
   ]
  },
  {
   "cell_type": "code",
   "execution_count": 5,
   "id": "0fa73886",
   "metadata": {},
   "outputs": [],
   "source": [
    "# fetching internal tables from default keyspace \n",
    "result = session.execute(\"select release_version from system.local\") \n"
   ]
  },
  {
   "cell_type": "code",
   "execution_count": 6,
   "id": "85666384",
   "metadata": {},
   "outputs": [
    {
     "name": "stdout",
     "output_type": "stream",
     "text": [
      "<cassandra.cluster.ResultSet object at 0x00000200E91247F0>\n"
     ]
    }
   ],
   "source": [
    "print(result) "
   ]
  },
  {
   "cell_type": "code",
   "execution_count": 7,
   "id": "bbbe2da3",
   "metadata": {},
   "outputs": [
    {
     "name": "stdout",
     "output_type": "stream",
     "text": [
      "Row(release_version='4.0.0.6816')\n"
     ]
    }
   ],
   "source": [
    "row = result.one()\n",
    "print(row) "
   ]
  },
  {
   "cell_type": "code",
   "execution_count": 8,
   "id": "7598e59f",
   "metadata": {},
   "outputs": [],
   "source": [
    "# row = result.all()\n",
    "# print(row) "
   ]
  },
  {
   "cell_type": "code",
   "execution_count": 9,
   "id": "eebc25a6",
   "metadata": {},
   "outputs": [
    {
     "name": "stdout",
     "output_type": "stream",
     "text": [
      "4.0.0.6816\n"
     ]
    }
   ],
   "source": [
    "print(row[0]) "
   ]
  },
  {
   "cell_type": "code",
   "execution_count": 10,
   "id": "1156fb5c",
   "metadata": {},
   "outputs": [
    {
     "name": "stdout",
     "output_type": "stream",
     "text": [
      "4.0.0.6816\n"
     ]
    }
   ],
   "source": [
    "if row:\n",
    "    print(row[0])\n",
    "else:\n",
    "    print('there is no data') "
   ]
  },
  {
   "cell_type": "code",
   "execution_count": 11,
   "id": "2ced4f3b",
   "metadata": {},
   "outputs": [],
   "source": [
    "# to get all the keyspaces available:-\n",
    "\n",
    "keyspaces = session.execute('Select keyspace_name from system_schema.keyspaces') "
   ]
  },
  {
   "cell_type": "code",
   "execution_count": 12,
   "id": "3d0ba977",
   "metadata": {},
   "outputs": [
    {
     "name": "stdout",
     "output_type": "stream",
     "text": [
      "system_auth\n",
      "datastax_sla\n",
      "system_schema\n",
      "db1\n",
      "data_endpoint_auth\n",
      "system\n",
      "system_traces\n"
     ]
    }
   ],
   "source": [
    "for keyspace in keyspaces:\n",
    "    print(keyspace[0]) "
   ]
  },
  {
   "cell_type": "code",
   "execution_count": 13,
   "id": "2116a636",
   "metadata": {},
   "outputs": [
    {
     "name": "stdout",
     "output_type": "stream",
     "text": [
      "Exception occured while creating keyspace Error from server: code=2100 [Unauthorized] message=\"Missing correct permission on aadil_test.: Keyspace management is currently only supported at https://astra.datastax.com/org/6534f61d-17de-4c85-bf7a-493137ff4362/database/ca15f7f6-67e4-458c-bc46-b2d5b34436eb\"\n"
     ]
    }
   ],
   "source": [
    "# creating a keyspace using python(not available in free version)\n",
    "try:\n",
    "    query = \"create keyspace aadil_test with replication= {'class': 'SimpleStrategy','replication_factor': 1}\"\n",
    "    session.execute(query)\n",
    "    print('keyspace created successfully')\n",
    "except Exception as e:\n",
    "    print(\"Exception occured while creating keyspace\",e) "
   ]
  },
  {
   "cell_type": "code",
   "execution_count": 15,
   "id": "4e816c67",
   "metadata": {},
   "outputs": [
    {
     "name": "stdout",
     "output_type": "stream",
     "text": [
      "Exception occured while creating keyspace Error from server: code=2200 [Invalid query] message=\"Unknown keyspace aadil_test\"\n"
     ]
    }
   ],
   "source": [
    "# command to alter a keyspace\n",
    "try:\n",
    "    query = \"alter keyspace aadil_test with replication= {'class': 'SimpleStrategy','replication_factor': 3}\"\n",
    "    session.execute(query)\n",
    "    print('keyspace altered successfully')\n",
    "except Exception as e:\n",
    "    print(\"Exception occured while creating keyspace\",e) "
   ]
  },
  {
   "cell_type": "code",
   "execution_count": 16,
   "id": "6b9a8ec2",
   "metadata": {},
   "outputs": [
    {
     "name": "stdout",
     "output_type": "stream",
     "text": [
      "Exception Occured while using Keyspace :  Error from server: code=2200 [Invalid query] message=\"Keyspace 'aadil_test' does not exist\"\n"
     ]
    }
   ],
   "source": [
    "# Command to use a keyspace\n",
    "try:\n",
    "    query = \"use aadil_test\"\n",
    "    session.execute(query) \n",
    "    print(\"Inside the keyspace\")\n",
    "except Exception as err:\n",
    "    print(\"Exception Occured while using Keyspace : \",err) "
   ]
  },
  {
   "cell_type": "code",
   "execution_count": 17,
   "id": "cd88b919",
   "metadata": {},
   "outputs": [
    {
     "name": "stdout",
     "output_type": "stream",
     "text": [
      "Inside the keyspace\n"
     ]
    }
   ],
   "source": [
    "# Command to use a keyspace\n",
    "try:\n",
    "    query = \"use db1\" \n",
    "    session.execute(query)\n",
    "    print(\"Inside the keyspace\")\n",
    "except Exception as err:\n",
    "    print(\"Exception Occured while using Keyspace : \",err) "
   ]
  },
  {
   "cell_type": "code",
   "execution_count": 18,
   "id": "396e5620",
   "metadata": {},
   "outputs": [
    {
     "name": "stdout",
     "output_type": "stream",
     "text": [
      "table is created successfully\n"
     ]
    }
   ],
   "source": [
    "# creating a table inside keyspace\n",
    "try:\n",
    "    query = '''create table employee_data(\n",
    "             emp_id int,\n",
    "             emp_name varchar,\n",
    "             emp_salary int,\n",
    "             emp_dept varchar,\n",
    "             emp_email varchar,\n",
    "             emp_phone varchar,\n",
    "             primary key (emp_id,emp_dept)\n",
    "             )'''\n",
    "    session.execute(query)\n",
    "    print('table is created successfully')\n",
    "except Exception as e:\n",
    "    print('Exception occured while creating the table',err) "
   ]
  },
  {
   "cell_type": "code",
   "execution_count": 19,
   "id": "9bdc766c",
   "metadata": {},
   "outputs": [
    {
     "name": "stdout",
     "output_type": "stream",
     "text": [
      "column dropped succesfully\n"
     ]
    }
   ],
   "source": [
    "# changing the datatype of a column\n",
    "try:\n",
    "    query = 'alter table employee drop emp_email'\n",
    "    session.execute(query)\n",
    "    print('column dropped succesfully')\n",
    "except Exception as e:\n",
    "    print('Exception occured while creating the table',err) "
   ]
  },
  {
   "cell_type": "code",
   "execution_count": 22,
   "id": "6f4389c0",
   "metadata": {},
   "outputs": [
    {
     "name": "stdout",
     "output_type": "stream",
     "text": [
      "column added succesfully with new datatype\n"
     ]
    }
   ],
   "source": [
    "try:\n",
    "    query = 'alter table employee add emp_email text'\n",
    "    session.execute(query)\n",
    "    print('column added succesfully with new datatype') \n",
    "except Exception as e:\n",
    "    print('Exception occured while creating the table',e) "
   ]
  },
  {
   "cell_type": "code",
   "execution_count": 23,
   "id": "5c06e64c",
   "metadata": {},
   "outputs": [
    {
     "name": "stdout",
     "output_type": "stream",
     "text": [
      "Record inserted successfully !!\n"
     ]
    }
   ],
   "source": [
    "# Insert data into cassandra table\n",
    "try:\n",
    "    query = \"insert into employee(emp_id, emp_name, emp_salary, emp_dept, emp_email, emp_phone) values(1, 'Shashank', 10000, 'Software', 'abc.gmail.com','+91 768467474')\"\n",
    "    session.execute(query)\n",
    "    print(\"Record inserted successfully !!\")\n",
    "except Exception as err:\n",
    "    print(\"Exception Occured while inserting the data into table: \",err) "
   ]
  },
  {
   "cell_type": "code",
   "execution_count": 29,
   "id": "4e9a0660",
   "metadata": {},
   "outputs": [],
   "source": [
    "# ? is a placeholder \n",
    "\n",
    "# Create a list of tuples representing the rows to be inserted\n",
    "query = \"INSERT INTO employee_data (emp_id, emp_name, emp_salary, emp_dept, emp_email, emp_phone) VALUES (?, ?, ?, ?, ?, ?)\"\n",
    "prepared_stmt = session.prepare(query)\n",
    "\n",
    "data = [(1, \"John Doe\", 50000, \"IT\", \"john.doe@example.com\", \"555-555-1212\"),\n",
    "        (2, \"Jane Doe\", 55000, \"HR\", \"jane.doe@example.com\", \"555-555-1213\"),\n",
    "        (3, \"Bob Smith\", 60000, \"IT\", \"bob.smith@example.com\", \"555-555-1214\")]\n",
    "\n",
    "try:\n",
    "    for record in data:\n",
    "        session.execute(prepared_stmt, record)\n",
    "    print('Data inserted successfully')\n",
    "except Exception as e:\n",
    "    print(\"Error inserting data: \", e)\n"
   ]
  },
  {
   "cell_type": "code",
   "execution_count": 30,
   "id": "846c36df",
   "metadata": {},
   "outputs": [
    {
     "name": "stdout",
     "output_type": "stream",
     "text": [
      "Record inserted successfully !!\n"
     ]
    }
   ],
   "source": [
    "# Insert data into cassandra table\n",
    "try:\n",
    "    query = \"insert into employee(emp_id, emp_name, emp_salary, emp_dept, emp_email, emp_phone) values(3, 'Sunny', 22000, 'HR', 'klm.gmail.com','+91 800067474')\"\n",
    "    session.execute(query)\n",
    "    print(\"Record inserted successfully !!\")\n",
    "except Exception as err:\n",
    "    print(\"Exception Occured while inserting the data into table: \",err) "
   ]
  },
  {
   "cell_type": "code",
   "execution_count": 31,
   "id": "0c86ba36",
   "metadata": {},
   "outputs": [
    {
     "name": "stdout",
     "output_type": "stream",
     "text": [
      "Record inserted successfully !!\n"
     ]
    }
   ],
   "source": [
    "# Insert data into cassandra table\n",
    "try:\n",
    "    query = \"insert into employee(emp_id, emp_name, emp_salary, emp_dept, emp_email, emp_phone) values(4, 'Vishal', 30000, 'Software', 'mno.gmail.com','+91 600467474')\"\n",
    "    session.execute(query)\n",
    "    print(\"Record inserted successfully !!\")\n",
    "except Exception as err:\n",
    "    print(\"Exception Occured while inserting the data into table: \",err)  "
   ]
  },
  {
   "cell_type": "code",
   "execution_count": 32,
   "id": "29275e8b",
   "metadata": {},
   "outputs": [
    {
     "name": "stdout",
     "output_type": "stream",
     "text": [
      "<cassandra.cluster.ResultSet object at 0x00000200ECB74B50>\n"
     ]
    }
   ],
   "source": [
    "# Select query on cassandra table, we will need a variable here since the query would return some value.\n",
    "try:\n",
    "    query = \"select * from employee\"\n",
    "    result = session.execute(query)\n",
    "    print(result) \n",
    "except Exception as err:\n",
    "    print(\"Exception Occured while selecting the data from table: \",err) "
   ]
  },
  {
   "cell_type": "code",
   "execution_count": 37,
   "id": "770693be",
   "metadata": {},
   "outputs": [
    {
     "name": "stdout",
     "output_type": "stream",
     "text": [
      "Row(emp_id=1, emp_dept='Software', emp_email='abc.gmail.com', emp_name='Shashank', emp_phone='+91 768467474', emp_salary=10000)\n",
      "Row(emp_id=2, emp_dept='IT', emp_email=None, emp_name='Rahul', emp_phone='+91 908467474', emp_salary=20000)\n",
      "Row(emp_id=4, emp_dept='Software', emp_email='mno.gmail.com', emp_name='Vishal', emp_phone='+91 600467474', emp_salary=30000)\n",
      "Row(emp_id=3, emp_dept='HR', emp_email='klm.gmail.com', emp_name='Sunny', emp_phone='+91 800067474', emp_salary=22000)\n"
     ]
    }
   ],
   "source": [
    "# Select query on cassandra table\n",
    "try:\n",
    "    query = 'select * from employee'\n",
    "    result = session.execute(query)\n",
    "    for row in result:\n",
    "        print(row) \n",
    "#         print(row[0],row[1])  \n",
    "except Exception as err:\n",
    "    print(\"Exception Occured while selecting the data from table: \",err) \n",
    "        "
   ]
  },
  {
   "cell_type": "code",
   "execution_count": 40,
   "id": "0d49c63b",
   "metadata": {},
   "outputs": [
    {
     "name": "stdout",
     "output_type": "stream",
     "text": [
      "emp_id : 1\n",
      "emp_dept : Software\n",
      "emp_id : 2\n",
      "emp_dept : IT\n",
      "emp_id : 4\n",
      "emp_dept : Software\n",
      "emp_id : 3\n",
      "emp_dept : HR\n"
     ]
    }
   ],
   "source": [
    "try:\n",
    "    query = 'select * from employee'\n",
    "    result = session.execute(query)\n",
    "    for row in result:\n",
    "        print(f'emp_id : {row[0]}')\n",
    "        print(f'emp_dept : {row[1]}')       \n",
    "except Exception as err:\n",
    "    print(\"Exception Occured while selecting the data from table: \",err) "
   ]
  },
  {
   "cell_type": "code",
   "execution_count": 41,
   "id": "a7d9c10a",
   "metadata": {},
   "outputs": [],
   "source": [
    "# simple aggregation can work in cassandra, but there is no place of joins in cassandra till now.\n",
    "# Additionally, Cassandra's query language, CQL, does not support the\n",
    "# use of aggregate functions (such as SUM or COUNT) within a GROUP BY clause."
   ]
  },
  {
   "cell_type": "code",
   "execution_count": 42,
   "id": "5e2f78e4",
   "metadata": {},
   "outputs": [
    {
     "name": "stdout",
     "output_type": "stream",
     "text": [
      "Row(count=4)\n",
      "4\n"
     ]
    }
   ],
   "source": [
    "# Write a query to get total count of employees\n",
    "try:\n",
    "    query = \"select count(*) from employee\"\n",
    "    result = session.execute(query)\n",
    "    row = result.one()\n",
    "    print(row)\n",
    "    print(row[0])\n",
    "except Exception as err:\n",
    "    print(\"Exception Occured while selecting the data from table: \",err)"
   ]
  },
  {
   "cell_type": "raw",
   "id": "2c70eb3d",
   "metadata": {},
   "source": [
    "# Rules for where clause - It can be used effectively with high performance for given below type of columns:- \n",
    "# 1.) we need to use Partition Key (Single or Composite) with the where clause\n",
    "                   #OR\n",
    "# 2.) if Cluster column  used in where clause then it should be with Partition Key\n",
    "                   #OR\n",
    "# 3.) A column on which we have applied the index\n",
    "                   #OR\n",
    "# 4.) A column which is not part of partition key or index column or clustering column then we can use where clause but we have to\n",
    "# use keyword ALLOW FILTERING - it will be a super slow performance when data volume is very high"
   ]
  },
  {
   "cell_type": "code",
   "execution_count": 43,
   "id": "4526493e",
   "metadata": {},
   "outputs": [
    {
     "name": "stdout",
     "output_type": "stream",
     "text": [
      "Row(emp_id=2, emp_dept='IT', emp_email=None, emp_name='Rahul', emp_phone='+91 908467474', emp_salary=20000)\n"
     ]
    }
   ],
   "source": [
    "# where clause for Partition key only or Rule no -1\n",
    "\n",
    "try:\n",
    "    query = \"select * from employee where emp_id=2\"\n",
    "    result = session.execute(query)\n",
    "    row = result.one()\n",
    "    print(row)\n",
    "except Exception as err:\n",
    "    print(\"Exception Occured while selecting the data from table: \",err) "
   ]
  },
  {
   "cell_type": "code",
   "execution_count": 44,
   "id": "094efbfc",
   "metadata": {},
   "outputs": [
    {
     "name": "stdout",
     "output_type": "stream",
     "text": [
      "Row(emp_id=1, emp_dept='Software', emp_email='abc.gmail.com', emp_name='Shashank', emp_phone='+91 768467474', emp_salary=10000)\n"
     ]
    }
   ],
   "source": [
    "# where clause for Clustering key only or Rule no - 2 \n",
    "\n",
    "try:\n",
    "    query = \"select * from employee where emp_dept='Software' and emp_id=1\"\n",
    "    result = session.execute(query)\n",
    "    row = result.one()\n",
    "    print(row)\n",
    "except Exception as err:\n",
    "    print(\"Exception Occured while selecting the data from table: \",err) "
   ]
  },
  {
   "cell_type": "code",
   "execution_count": 45,
   "id": "473ded2d",
   "metadata": {},
   "outputs": [
    {
     "name": "stdout",
     "output_type": "stream",
     "text": [
      "Row(emp_id=1, emp_dept='Software', emp_email='abc.gmail.com', emp_name='Shashank', emp_phone='+91 768467474', emp_salary=10000)\n"
     ]
    }
   ],
   "source": [
    "try:\n",
    "    query = \"select * from employee where emp_id=1 and emp_dept='Software'\"\n",
    "    result = session.execute(query)\n",
    "    row = result.one()\n",
    "    print(row)\n",
    "except Exception as err:\n",
    "    print(\"Exception Occured while selecting the data from table: \",err) "
   ]
  },
  {
   "cell_type": "code",
   "execution_count": null,
   "id": "604ccf64",
   "metadata": {},
   "outputs": [],
   "source": [
    "# suppose We have another composite partition key with a clustering key\n",
    "# we need to keep the partition key saath saath mai..\n",
    "\n",
    "priamry key ( (employeeid, fname) , dept )\n",
    "\n",
    "select * from employee where employeeid = 'x' and dept = 'software' and fname = 'shashank'  # Wrong query\n",
    "\n",
    "select * from employee where dept = 'software' and employeeid = 'x' and fname = 'shashank'   # Correct query "
   ]
  },
  {
   "cell_type": "code",
   "execution_count": 46,
   "id": "f6be5a52",
   "metadata": {},
   "outputs": [
    {
     "name": "stdout",
     "output_type": "stream",
     "text": [
      "Row(emp_id=1, emp_dept='Software', emp_email='abc.gmail.com', emp_name='Shashank', emp_phone='+91 768467474', emp_salary=10000)\n"
     ]
    }
   ],
   "source": [
    "# rule no.:- 04\n",
    "try:\n",
    "    query = \"select * from employee where emp_name='Shashank' ALLOW FILTERING\"\n",
    "    result = session.execute(query)\n",
    "    row = result.one()\n",
    "    print(row)\n",
    "except Exception as err:\n",
    "    print(\"Exception Occured while selecting the data from table: \",err) "
   ]
  },
  {
   "cell_type": "code",
   "execution_count": 47,
   "id": "eca1c124",
   "metadata": {},
   "outputs": [
    {
     "name": "stdout",
     "output_type": "stream",
     "text": [
      "Row(user_id=1, age=35, gender='male', name='John Doe')\n",
      "Row(user_id=3, age=45, gender='male', name='Bob Smith')\n"
     ]
    }
   ],
   "source": [
    "# rule no. 03 \n",
    "# Create table with index\n",
    "#  \"on_age\" is the name given to the index on table users col- age.\n",
    "    \n",
    "session.execute(\"\"\"\n",
    "CREATE TABLE IF NOT EXISTS users (\n",
    "user_id int PRIMARY KEY,\n",
    "name text,\n",
    "age int,\n",
    "gender text\n",
    ")\n",
    "\"\"\")\n",
    "\n",
    "# Creating index on age column\n",
    "session.execute(\"CREATE INDEX IF NOT EXISTS on_age ON users (age)\")\n",
    "\n",
    "# Inserting data into the table\n",
    "session.execute(\"INSERT INTO users (user_id, name, age, gender) VALUES (1, 'John Doe', 35, 'male')\")\n",
    "session.execute(\"INSERT INTO users (user_id, name, age, gender) VALUES (2, 'Jane Doe', 25, 'female')\")\n",
    "session.execute(\"INSERT INTO users (user_id, name, age, gender) VALUES (3, 'Bob Smith', 45, 'male')\")\n",
    "\n",
    "# Retrieving data using WHERE clause on indexed column\n",
    "results = session.execute(\"SELECT * FROM users WHERE age > 30\")\n",
    "for row in results:\n",
    "    print(row)"
   ]
  },
  {
   "cell_type": "raw",
   "id": "e57349c5",
   "metadata": {},
   "source": [
    "# Group by in cassandra  -  Allowed for all columns which are part of Primary Key\n",
    "# Follow given below rules\n",
    "# Rule - 1 : Use only partition key(single or composite) in the group by\n",
    "              #OR\n",
    "# Rule - 2 : if Cluster key column is used then follow the actual declared sequence in the primary key"
   ]
  },
  {
   "cell_type": "code",
   "execution_count": 48,
   "id": "ecd5feb6",
   "metadata": {},
   "outputs": [
    {
     "name": "stdout",
     "output_type": "stream",
     "text": [
      "Row(emp_id=1, sum_salary=10000)\n"
     ]
    }
   ],
   "source": [
    "# Rule -1, single primary key:-->\n",
    "try:\n",
    "    query = \"select emp_id, sum(emp_salary) as sum_salary from employee group by emp_id\"\n",
    "    result = session.execute(query)\n",
    "    row = result.one()\n",
    "    print(row)\n",
    "except Exception as err:\n",
    "    print(\"Exception Occured while selecting the data from table: \",err) "
   ]
  },
  {
   "cell_type": "code",
   "execution_count": 54,
   "id": "f9ecd752",
   "metadata": {},
   "outputs": [
    {
     "name": "stdout",
     "output_type": "stream",
     "text": [
      "Row(emp_id=1, emp_dept='Software', sum_salary=10000)\n"
     ]
    }
   ],
   "source": [
    "# Rule - 2 : if Cluster key column is used then follow the actual declared sequence in the primary key\n",
    "try:\n",
    "    query = \"select emp_id, emp_dept, sum(emp_salary) as sum_salary from employee group by emp_id, emp_dept\"\n",
    "    result = session.execute(query)\n",
    "    row = result.one()\n",
    "    print(row)\n",
    "except Exception as err:\n",
    "    print(\"Exception Occured while selecting the data from table: \",err) "
   ]
  },
  {
   "cell_type": "code",
   "execution_count": 64,
   "id": "b8935397",
   "metadata": {},
   "outputs": [
    {
     "data": {
      "text/plain": [
       "<cassandra.cluster.ResultSet at 0x200e901ddc0>"
      ]
     },
     "execution_count": 64,
     "metadata": {},
     "output_type": "execute_result"
    }
   ],
   "source": [
    "from cassandra.query import SimpleStatement\n",
    "\n",
    "session.execute(\"\"\"\n",
    "CREATE TABLE IF NOT EXISTS mytable (\n",
    "    id int PRIMARY KEY,\n",
    "    name text,\n",
    "    value int\n",
    ");\n",
    "\"\"\") "
   ]
  },
  {
   "cell_type": "raw",
   "id": "d74c1f21",
   "metadata": {},
   "source": [
    "what is BoundStatement from the PreparedStatement and binding parameters. explain this in very simple terms in cassandra?\n",
    "\n",
    "In Cassandra, a PreparedStatement is a pre-compiled and stored SQL query that can be executed multiple times with different parameter values. A BoundStatement is an instance of a PreparedStatement that is created by binding values to its parameters. This process of binding values to a PreparedStatement creates a BoundStatement that can be executed, improving performance compared to executing a new statement each time. Simply put, a BoundStatement is a ready-to-execute version of a PreparedStatement with specific values filled in."
   ]
  },
  {
   "cell_type": "code",
   "execution_count": 63,
   "id": "3ae9dad5",
   "metadata": {},
   "outputs": [
    {
     "data": {
      "text/plain": [
       "<cassandra.cluster.ResultSet at 0x200ec7fd3d0>"
      ]
     },
     "execution_count": 63,
     "metadata": {},
     "output_type": "execute_result"
    }
   ],
   "source": [
    "# write using consistency level quorum\n",
    "from cassandra import ConsistencyLevel\n",
    "from cassandra.query import SimpleStatement\n",
    "\n",
    "query = SimpleStatement(\n",
    "    \"INSERT INTO mytable (id,name, value) VALUES (%s, %s,%s)\", \n",
    "    consistency_level=ConsistencyLevel.QUORUM)\n",
    "session.execute(query, (1,'John', 42)) "
   ]
  },
  {
   "cell_type": "code",
   "execution_count": 68,
   "id": "87551a2c",
   "metadata": {},
   "outputs": [
    {
     "name": "stdout",
     "output_type": "stream",
     "text": [
      "Row(id=1, name='John', value=42)\n"
     ]
    }
   ],
   "source": [
    "# read using consistency level quorum\n",
    "query = SimpleStatement(\"SELECT * FROM mytable\", consistency_level=ConsistencyLevel.QUORUM)\n",
    "a = session.execute(query) \n",
    "print(a.one())  "
   ]
  },
  {
   "cell_type": "code",
   "execution_count": 82,
   "id": "4ff564f0",
   "metadata": {},
   "outputs": [],
   "source": [
    "# so in the above way we were setting the consistency 1 by 1, to set the consistency at once for default:-\n",
    "#PreparedStatement \n",
    "\n",
    "user_lookup_stmt = session.prepare(\"SELECT * FROM users WHERE user_id=?\")\n",
    "user_lookup_stmt.consistency_level = ConsistencyLevel.QUORUM\n",
    "\n",
    "# these will both use QUORUM\n",
    "user1 = session.execute(user_lookup_stmt, [1])[0]\n",
    "user2 = session.execute(user_lookup_stmt, [2])[0]   "
   ]
  },
  {
   "cell_type": "code",
   "execution_count": 71,
   "id": "887c2180",
   "metadata": {},
   "outputs": [
    {
     "data": {
      "text/plain": [
       "Row(user_id=1, age=35, gender='male', name='John Doe')"
      ]
     },
     "execution_count": 71,
     "metadata": {},
     "output_type": "execute_result"
    }
   ],
   "source": [
    "user1 "
   ]
  },
  {
   "cell_type": "code",
   "execution_count": 72,
   "id": "f3583ead",
   "metadata": {},
   "outputs": [
    {
     "data": {
      "text/plain": [
       "Row(user_id=1, age=35, gender='male', name='John Doe')"
      ]
     },
     "execution_count": 72,
     "metadata": {},
     "output_type": "execute_result"
    }
   ],
   "source": [
    "user2 "
   ]
  },
  {
   "cell_type": "code",
   "execution_count": 80,
   "id": "03e05a76",
   "metadata": {},
   "outputs": [],
   "source": [
    "result = session.execute(\"SELECT * FROM users\") "
   ]
  },
  {
   "cell_type": "code",
   "execution_count": 81,
   "id": "54faa76e",
   "metadata": {},
   "outputs": [
    {
     "name": "stdout",
     "output_type": "stream",
     "text": [
      "Row(user_id=1, age=35, gender='male', name='John Doe')\n",
      "Row(user_id=2, age=25, gender='female', name='Jane Doe')\n",
      "Row(user_id=3, age=45, gender='male', name='Bob Smith')\n"
     ]
    }
   ],
   "source": [
    "for i in result:\n",
    "    print(i) "
   ]
  },
  {
   "cell_type": "code",
   "execution_count": null,
   "id": "a4ee59ad",
   "metadata": {},
   "outputs": [],
   "source": [
    "# Bind Parameters"
   ]
  },
  {
   "cell_type": "code",
   "execution_count": 90,
   "id": "8fb9fadb",
   "metadata": {},
   "outputs": [],
   "source": [
    "# now override the QUORUM default\n",
    "user3_lookup = user_lookup_stmt.bind([3]) \n",
    "user3_lookup.consistency_level = ConsistencyLevel.ALL\n",
    "user3 = session.execute(user3_lookup, [3])[0]  "
   ]
  },
  {
   "cell_type": "code",
   "execution_count": 91,
   "id": "69630742",
   "metadata": {},
   "outputs": [
    {
     "data": {
      "text/plain": [
       "Row(user_id=3, age=45, gender='male', name='Bob Smith')"
      ]
     },
     "execution_count": 91,
     "metadata": {},
     "output_type": "execute_result"
    }
   ],
   "source": [
    "user3 "
   ]
  },
  {
   "cell_type": "code",
   "execution_count": 92,
   "id": "c67e90f5",
   "metadata": {},
   "outputs": [],
   "source": [
    "# to read more about consistency code in python(bind parameters,prepared statements, speculative execution policy):-\n",
    "\n",
    "# https://docs.datastax.com/en/developer/python-driver/3.23/getting_startead/ "
   ]
  },
  {
   "cell_type": "raw",
   "id": "90b0bb7b",
   "metadata": {},
   "source": [
    "# speculative execution policy:-\n",
    "Speculative execution is a way to minimize latency by preemptively executing several instances of the same query against different nodes.\n",
    "\n",
    "peculative execution is a performance optimization technique used in database systems such as Cassandra, where multiple identical requests to the same resource are executed concurrently. The first request to complete is used, while the others are discarded. This is done in order to reduce the latency of a query by starting execution before the previous query has completed. This technique can be especially useful in large-scale systems where a single query can take a long time to complete due to the large amount of data that needs to be processed. By executing multiple requests in parallel, speculative execution aims to reduce the time it takes to complete a query and improve overall system performance.\n",
    "\n",
    "\n",
    "Imagine you are searching for a specific book in a library with a large collection. Normally, you would ask the librarian where the book is located, and they would go and check for you. But with speculative execution, instead of waiting for the librarian to come back with the answer, you ask multiple librarians at the same time. The first librarian to find the book returns with the answer and you use it, while the others are ignored. This way, you get the answer faster, instead of having to wait for one librarian to search the entire library.\n",
    "\n",
    "# idempotent:-\n",
    "Mark your query as idempotent, which mean it can be applied multiple times without changing the result of the initial application.\n",
    "hum query ko ko idempotent banayenge, matlab ki hum ek chiz baar baar bhej rhe hai , toh jo sab se pehle mile usko accept kar lena baar baar change mt hona."
   ]
  },
  {
   "cell_type": "raw",
   "id": "7ebd20e2",
   "metadata": {},
   "source": [
    "In a distributed database like Cassandra, data is spread across multiple nodes. Sometimes a node may be slow or unresponsive, which can delay a query or command. To prevent this, Cassandra uses a feature called \"speculative execution\" where multiple copies of a query are sent to different nodes at the same time.\n",
    "\n",
    "Idempotent in this context means that no matter how many times the query is executed, the final result will be the same. This is important because it ensures that if multiple copies of the same query are executed, the result will not be affected, which improves the consistency and reliability of the system."
   ]
  },
  {
   "cell_type": "code",
   "execution_count": 96,
   "id": "c050f500",
   "metadata": {},
   "outputs": [
    {
     "data": {
      "text/plain": [
       "<cassandra.cluster.ResultSet at 0x200ed0f9310>"
      ]
     },
     "execution_count": 96,
     "metadata": {},
     "output_type": "execute_result"
    }
   ],
   "source": [
    "# it may work slow in our free version\n",
    "from cassandra.cluster import Cluster, ExecutionProfile, EXEC_PROFILE_DEFAULT\n",
    "from cassandra.policies import ConstantSpeculativeExecutionPolicy\n",
    "from cassandra.query import SimpleStatement\n",
    "\n",
    "# Configure the speculative execution policy\n",
    "ep = ExecutionProfile(\n",
    "    speculative_execution_policy=ConstantSpeculativeExecutionPolicy(delay=.5, max_attempts=10)\n",
    ")\n",
    "cluster = Cluster(cloud=cloud_config, auth_provider=auth_provider, execution_profiles={EXEC_PROFILE_DEFAULT: ep})\n",
    "session = cluster.connect()\n",
    "\n",
    "# Mark the query idempotent\n",
    "query = SimpleStatement(\n",
    "    \"UPDATE db1.users SET  age = 54 WHERE user_id = 3\",\n",
    "    is_idempotent=True\n",
    ") \n",
    "\n",
    "# Execute. A new query will be sent to the server every 0.5 second\n",
    "# until we receive a response, for a max number attempts of 10.\n",
    "session.execute(query) "
   ]
  },
  {
   "cell_type": "code",
   "execution_count": 99,
   "id": "39cebb59",
   "metadata": {},
   "outputs": [],
   "source": [
    "result = session.execute(\"SELECT * FROM db1.users\") "
   ]
  },
  {
   "cell_type": "code",
   "execution_count": 101,
   "id": "0260e70f",
   "metadata": {},
   "outputs": [
    {
     "name": "stdout",
     "output_type": "stream",
     "text": [
      "Row(user_id=1, age=35, gender='male', name='John Doe')\n",
      "Row(user_id=2, age=25, gender='female', name='Jane Doe')\n",
      "Row(user_id=3, age=54, gender='male', name='Bob Smith')\n"
     ]
    }
   ],
   "source": [
    "for i in result:\n",
    "    print(i) "
   ]
  },
  {
   "cell_type": "raw",
   "id": "e1f37635",
   "metadata": {},
   "source": [
    "ques. when should we use  speculative_execution_policy in cassandra\n",
    "Ans. Speculative execution policy should be used in Cassandra when you want to run multiple, parallel requests to the same node, with the expectation that the first successful response will be used. This policy can be useful in increasing the speed of query execution, especially in scenarios where a single node may be experiencing high latency.\n",
    "\n",
    "ques. do we need to  specify the node name also with the speculative execution or the primary key is enough to find our nodes?\n",
    "Ans. The speculative execution policy in Cassandra operates on a per-node basis, rather than a per-key basis. So, specifying the node name is not necessary. Instead, you can specify the number of parallel requests to make to the same node, and the threshold for considering a response as a successful one. The policy will then automatically choose the nodes to run the parallel requests on. The primary key is used to determine the node(s) responsible for storing the data, and the speculative execution policy is used to determine how the queries are executed on those nodes."
   ]
  }
 ],
 "metadata": {
  "kernelspec": {
   "display_name": "Python 3 (ipykernel)",
   "language": "python",
   "name": "python3"
  },
  "language_info": {
   "codemirror_mode": {
    "name": "ipython",
    "version": 3
   },
   "file_extension": ".py",
   "mimetype": "text/x-python",
   "name": "python",
   "nbconvert_exporter": "python",
   "pygments_lexer": "ipython3",
   "version": "3.9.7"
  }
 },
 "nbformat": 4,
 "nbformat_minor": 5
}
